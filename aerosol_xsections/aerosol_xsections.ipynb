{
 "cells": [
  {
   "cell_type": "markdown",
   "metadata": {},
   "source": [
    "# Aerosol Optical Properties\n",
    "I do all the mei calculations with `meipython`: https://github.com/scottprahl/miepython\n"
   ]
  },
  {
   "cell_type": "code",
   "execution_count": 1,
   "metadata": {},
   "outputs": [],
   "source": [
    "import numpy as np\n",
    "import matplotlib.pyplot as plt\n",
    "import miepython\n",
    "from scipy.io import FortranFile\n",
    "import os"
   ]
  },
  {
   "cell_type": "code",
   "execution_count": 2,
   "metadata": {},
   "outputs": [],
   "source": [
    "# for writing binary files\n",
    "def write_mie_file(filename, wavelength_new_nm, radii, w0_all, qext_all, g_all):\n",
    "    if os.path.isfile(filename):\n",
    "        raise Exception('Can not overwrite files')\n",
    "    nw = len(wavelength_new_nm)\n",
    "    nrad = len(radii)\n",
    "    \n",
    "    f = FortranFile(filename, 'w')\n",
    "\n",
    "    f.write_record(np.array(nw,dtype=np.int32))\n",
    "    f.write_record(wavelength_new_nm)\n",
    "\n",
    "    f.write_record(np.array(nrad,dtype=np.int32))\n",
    "    f.write_record(radii)\n",
    "\n",
    "    f.write_record(w0_all)\n",
    "    f.write_record(qext_all)\n",
    "    f.write_record(g_all)\n",
    "\n",
    "    f.close()"
   ]
  },
  {
   "cell_type": "markdown",
   "metadata": {},
   "source": [
    "## H2SO4 from Atmos Twostr.f90"
   ]
  },
  {
   "cell_type": "code",
   "execution_count": 6,
   "metadata": {},
   "outputs": [],
   "source": [
    "nrad = 50\n",
    "radii = np.logspace(np.log10(0.0001),np.log10(2),nrad)\n",
    "nw = 2\n",
    "wavelength_new_nm = np.array([1,1000])\n",
    "w0_all = np.empty((nrad,nw),np.float64)\n",
    "qext_all = np.empty((nrad,nw),np.float64)\n",
    "g_all = np.empty((nrad,nw),np.float64)\n",
    "\n",
    "for i in range(nrad):\n",
    "    w0_all[i,:] = 1\n",
    "    qext_all[i,:] = 2\n",
    "    g_all[i,:] = 0.8    "
   ]
  },
  {
   "cell_type": "code",
   "execution_count": 7,
   "metadata": {},
   "outputs": [],
   "source": [
    "write_mie_file('atmos_H2SO4/mie_atmos_H2SO4.dat', wavelength_new_nm, radii, w0_all, qext_all, g_all)"
   ]
  },
  {
   "cell_type": "markdown",
   "metadata": {},
   "source": [
    "## S8 from Atmos twostr.f90"
   ]
  },
  {
   "cell_type": "code",
   "execution_count": 8,
   "metadata": {},
   "outputs": [],
   "source": [
    "nrad = 50\n",
    "radii = np.logspace(np.log10(0.0001),np.log10(2),nrad)\n",
    "nw = 4\n",
    "wavelength_new_nm = np.array([1,350,350.1,1000])\n",
    "w0_all = np.empty((nrad,nw),np.float64)\n",
    "qext_all = np.empty((nrad,nw),np.float64)\n",
    "g_all = np.empty((nrad,nw),np.float64)\n",
    "\n",
    "for i in range(nrad):\n",
    "    w0_all[i,:] = np.array([0.5,0.5,1,1])\n",
    "    qext_all[i,:] = 2\n",
    "    g_all[i,:] = 0.8  "
   ]
  },
  {
   "cell_type": "code",
   "execution_count": 9,
   "metadata": {},
   "outputs": [],
   "source": [
    "write_mie_file('atmos_S8/mie_atmos_S8.dat', wavelength_new_nm, radii, w0_all, qext_all, g_all)"
   ]
  },
  {
   "cell_type": "code",
   "execution_count": null,
   "metadata": {},
   "outputs": [],
   "source": []
  },
  {
   "cell_type": "markdown",
   "metadata": {},
   "source": [
    "## Khare_tholins.dat (hydrocarbon aersols)"
   ]
  },
  {
   "cell_type": "code",
   "execution_count": 3,
   "metadata": {},
   "outputs": [],
   "source": [
    "fil = open('khare1984/khare_tholins.dat')\n",
    "lines = fil.readlines()\n",
    "fil.close()\n",
    "\n",
    "wavelength = [] # microns\n",
    "m_real = []\n",
    "m_imag = []\n",
    "for line in lines[13:]:\n",
    "    tmp = line.split()\n",
    "    wavelength.append(float(tmp[1]))\n",
    "    m_real.append(float(tmp[2]))\n",
    "    m_imag.append(float(tmp[3]))\n",
    "    \n",
    "wavelength = np.array(wavelength) # this is micro meter\n",
    "wavelength_nm = wavelength*1e3\n",
    "m_real = np.array(m_real)\n",
    "m_imag = np.array(m_imag)"
   ]
  },
  {
   "cell_type": "code",
   "execution_count": null,
   "metadata": {},
   "outputs": [],
   "source": []
  },
  {
   "cell_type": "code",
   "execution_count": 4,
   "metadata": {},
   "outputs": [],
   "source": [
    "radius = 0.9\n",
    "x = 2 * np.pi * radius / wavelength\n",
    "m = m_real - 1j*m_imag\n",
    "qext, qsca, qback, g = miepython.mie(m, x)\n",
    "w0 = qsca/qext"
   ]
  },
  {
   "cell_type": "code",
   "execution_count": 5,
   "metadata": {},
   "outputs": [
    {
     "data": {
      "image/png": "[encoded data removed]",
      "text/plain": [
       "<Figure size 1296x360 with 3 Axes>"
      ]
     },
     "metadata": {
      "needs_background": "light"
     },
     "output_type": "display_data"
    }
   ],
   "source": [
    "# wavl, wavu, w0_atmos, qext_atmos, g_atmos = np.loadtxt('fitmythol0001.DAT').T\n",
    "wavl, wavu, w0_atmos, qext_atmos, g_atmos = np.loadtxt('fitmythol09.DAT').T\n",
    "\n",
    "fig,[ax,ax1,ax2] = plt.subplots(1,3,figsize=[18,5],sharex=True)\n",
    "\n",
    "ax.plot(wavl/10/1e3,g_atmos,lw=3)\n",
    "ax.plot(wavelength,g,'--',lw=2)\n",
    "\n",
    "ax1.plot(wavl/10/1e3,qext_atmos,lw=3)\n",
    "ax1.plot(wavelength,qext,'--',lw=2)\n",
    "\n",
    "ax2.plot(wavl/10/1e3,w0_atmos,lw=3)\n",
    "ax2.plot(wavelength,w0,'--',lw=2)\n",
    "\n",
    "ax.set_xlim(.1,1.2)\n",
    "\n",
    "plt.show()"
   ]
  },
  {
   "cell_type": "code",
   "execution_count": 9,
   "metadata": {},
   "outputs": [],
   "source": [
    "# interpolate the data to a new grid\n",
    "# between 20.7 nm and 920000 nm\n",
    "nw = 500\n",
    "wavelength_new = np.logspace(np.log10(0.0207), np.log10(920.0),nw)\n",
    "\n",
    "wavelength_new_nm = wavelength_new*1e3\n",
    "m_real_new = np.interp(wavelength_new,wavelength,m_real)\n",
    "m_imag_new = np.interp(wavelength_new,wavelength,m_imag)\n",
    "\n",
    "# for r = 0.001 micrometer to 2 micrometers\n",
    "# log space, 50 intervals\n",
    "nrad = 50\n",
    "\n",
    "radii = np.logspace(np.log10(0.0001),np.log10(2),nrad)"
   ]
  },
  {
   "cell_type": "code",
   "execution_count": null,
   "metadata": {},
   "outputs": [],
   "source": []
  },
  {
   "cell_type": "code",
   "execution_count": 10,
   "metadata": {},
   "outputs": [],
   "source": [
    "w0_all = np.empty((nrad,nw),np.float64)\n",
    "qext_all = np.empty((nrad,nw),np.float64)\n",
    "g_all = np.empty((nrad,nw),np.float64)\n",
    "\n",
    "for i,radius in enumerate(radii):\n",
    "    x = 2 * np.pi * radius / wavelength_new\n",
    "    m = m_real_new - 1j*m_imag_new\n",
    "    qext, qsca, qback, g = miepython.mie(m, x)\n",
    "    w0 = qsca/qext\n",
    "    \n",
    "    w0_all[i] = w0\n",
    "    qext_all[i] = qext\n",
    "    g_all[i] = g"
   ]
  },
  {
   "cell_type": "code",
   "execution_count": 15,
   "metadata": {},
   "outputs": [
    {
     "data": {
      "image/png": "[encoded data removed]",
      "text/plain": [
       "<Figure size 504x360 with 1 Axes>"
      ]
     },
     "metadata": {
      "needs_background": "light"
     },
     "output_type": "display_data"
    }
   ],
   "source": [
    "ind = np.argmin(np.abs(radii-0.1))\n",
    "\n",
    "plt.rcParams.update({'font.size': 18})\n",
    "fig,ax = plt.subplots(1,1,figsize=[7,5])\n",
    "\n",
    "ax.plot(wavelength_new_nm/1e3,qext_all[ind,:], 'o-')\n",
    "\n",
    "ax.set_yscale('log')\n",
    "ax.set_xscale('log')\n",
    "ax.set_xlim()\n",
    "plt.show()"
   ]
  },
  {
   "cell_type": "code",
   "execution_count": null,
   "metadata": {},
   "outputs": [],
   "source": []
  },
  {
   "cell_type": "code",
   "execution_count": null,
   "metadata": {},
   "outputs": [],
   "source": []
  },
  {
   "cell_type": "code",
   "execution_count": 16,
   "metadata": {},
   "outputs": [],
   "source": [
    "write_mie_file('test1.dat', wavelength_new_nm, radii, w0_all, qext_all, g_all)"
   ]
  },
  {
   "cell_type": "code",
   "execution_count": null,
   "metadata": {},
   "outputs": [],
   "source": []
  },
  {
   "cell_type": "markdown",
   "metadata": {},
   "source": [
    "# Palmer 1975 (H2SO4)"
   ]
  },
  {
   "cell_type": "code",
   "execution_count": 12,
   "metadata": {},
   "outputs": [],
   "source": [
    "fil = open('palmer1975/palmer_williams_h2so4.dat')\n",
    "lines = fil.readlines()\n",
    "fil.close()\n",
    "\n",
    "wavelength = [] # microns\n",
    "m_real = []\n",
    "m_imag = []\n",
    "for line in lines[16:243]:\n",
    "    tmp = line.split()\n",
    "    wavelength.append(float(tmp[1]))\n",
    "    m_real.append(float(tmp[7]))\n",
    "    \n",
    "for line in lines[248:-1]:\n",
    "    tmp = line.split()\n",
    "    m_imag.append(float(tmp[7]))\n",
    "    \n",
    "wavelength = np.array(wavelength) # this is micro meter\n",
    "ind = np.argsort(wavelength)\n",
    "wavelength = wavelength[ind]\n",
    "\n",
    "wavelength_nm = wavelength*1e3\n",
    "m_real = np.array(m_real)[ind]\n",
    "m_imag = np.array(m_imag)[ind]"
   ]
  },
  {
   "cell_type": "code",
   "execution_count": 32,
   "metadata": {},
   "outputs": [],
   "source": [
    "radius = .01\n",
    "x = 2 * np.pi * radius / wavelength\n",
    "m = m_real - 1j*m_imag\n",
    "qext, qsca, qback, g = miepython.mie(m, x)\n",
    "w0 = qsca/qext"
   ]
  },
  {
   "cell_type": "code",
   "execution_count": 33,
   "metadata": {},
   "outputs": [
    {
     "data": {
      "image/png": "[encoded data removed]",
      "text/plain": [
       "<Figure size 1296x360 with 3 Axes>"
      ]
     },
     "metadata": {
      "needs_background": "light"
     },
     "output_type": "display_data"
    }
   ],
   "source": [
    "fig,[ax,ax1,ax2] = plt.subplots(1,3,figsize=[18,5],sharex=True)\n",
    "\n",
    "ax.plot(wavelength_nm,g,'o-',lw=2)\n",
    "\n",
    "ax1.plot(wavelength_nm,qext,'o-',lw=2)\n",
    "\n",
    "ax2.plot(wavelength_nm,w0,'o-',lw=2)\n",
    "\n",
    "ax.set_xlim(1,800)\n",
    "\n",
    "plt.show()"
   ]
  },
  {
   "cell_type": "code",
   "execution_count": null,
   "metadata": {},
   "outputs": [],
   "source": []
  },
  {
   "cell_type": "code",
   "execution_count": 35,
   "metadata": {},
   "outputs": [],
   "source": [
    "# interpolate the data to a new grid\n",
    "# between 20.7 nm and 1000 nm\n",
    "nw = 200\n",
    "wavelength_new = np.linspace(0.36,25.0,nw)\n",
    "\n",
    "wavelength_new_nm = wavelength_new*1e3\n",
    "m_real_new = np.interp(wavelength_new,wavelength,m_real)\n",
    "m_imag_new = np.interp(wavelength_new,wavelength,m_imag)\n",
    "\n",
    "# for r = 0.001 micrometer to 2 micrometers\n",
    "# log space, 50 intervals\n",
    "nrad = 50\n",
    "\n",
    "radii = np.logspace(np.log10(0.0001),np.log10(2),nrad)"
   ]
  },
  {
   "cell_type": "code",
   "execution_count": 36,
   "metadata": {},
   "outputs": [],
   "source": [
    "w0_all = np.empty((nrad,nw),np.float64)\n",
    "qext_all = np.empty((nrad,nw),np.float64)\n",
    "g_all = np.empty((nrad,nw),np.float64)\n",
    "\n",
    "for i,radius in enumerate(radii):\n",
    "    x = 2 * np.pi * radius / wavelength_new\n",
    "    m = m_real_new - 1j*m_imag_new\n",
    "    qext, qsca, qback, g = miepython.mie(m, x)\n",
    "    w0 = qsca/qext\n",
    "    \n",
    "    w0_all[i] = w0\n",
    "    qext_all[i] = qext\n",
    "    g_all[i] = g"
   ]
  },
  {
   "cell_type": "code",
   "execution_count": 15,
   "metadata": {},
   "outputs": [],
   "source": [
    "# write_mie_file('mie_palmer1975.dat', wavelength_new_nm, radii, w0_all, qext_all, g_all)"
   ]
  },
  {
   "cell_type": "code",
   "execution_count": null,
   "metadata": {},
   "outputs": [],
   "source": []
  },
  {
   "cell_type": "code",
   "execution_count": null,
   "metadata": {},
   "outputs": [],
   "source": []
  },
  {
   "cell_type": "code",
   "execution_count": null,
   "metadata": {},
   "outputs": [],
   "source": []
  },
  {
   "cell_type": "code",
   "execution_count": null,
   "metadata": {},
   "outputs": [],
   "source": []
  }
 ],
 "metadata": {
  "kernelspec": {
   "display_name": "Python 3 (ipykernel)",
   "language": "python",
   "name": "python3"
  },
  "language_info": {
   "codemirror_mode": {
    "name": "ipython",
    "version": 3
   },
   "file_extension": ".py",
   "mimetype": "text/x-python",
   "name": "python",
   "nbconvert_exporter": "python",
   "pygments_lexer": "ipython3",
   "version": "3.10.5"
  }
 },
 "nbformat": 4,
 "nbformat_minor": 4
}
